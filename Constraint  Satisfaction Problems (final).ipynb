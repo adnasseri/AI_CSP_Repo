{
 "cells": [
  {
   "cell_type": "markdown",
   "metadata": {},
   "source": [
    "# 1. Introduction\n",
    "\n",
    "**C**onstraint **S**atisfaction **P**roblem (CSP) is a problem composed of a finite set of **Variables** that can be assigned to a set of finite **Domain**, and a set of **constraints** that makes restriction to the values of the variables that can be simultaneously assigned. The task is to assign a value to each variable satisfying all the constraints. We have encountered a problem that states:Suppose there are N amount of trains, and M amount of railways. Each of the Trains and Railways have a specific maximum speed limit. Our objective is to assign all the trains to their corresponding railways based on the speed limits. if a train can't be assigned to a railway, then it's left out. The default example is: there are 7 trains and 4 railways."
   ]
  },
  {
   "cell_type": "markdown",
   "metadata": {
    "direction": "rtl"
   },
   "source": [
    "# 1. مقدمة\n",
    "\n",
    "مشكلة ارضاء القيود هي مشكلة مركبة من مجموعة **متغيرات** محددة و التي ممكن ان تأخذ قيم من **مجال** محدد، و مجموعة من **القيود** المحددة التي تقيد القيم المتاحة للمتغيرات الممكنة من تعيينها في آن واحد. لقد واجهتنا مشكلة وتنص بالأتي: افترض ان هناك عدد N قطارات، , عدد M من السكك الحديدية. كل من القطارات و السكك الحديدية لها سرعة قصوى محددة. هدفنا هو تعيين كل من القطارات الى السكة الحديدية المطابقة له من خلال السرعات القصوى. اذا كان هناك قطار لا يمكن تعيينه الى سكة حديد، فسوف يترك جانباً. المثال الافتراضي هو: هناك 7 قطارات و 4 سكك حديدية. "
   ]
  },
  {
   "attachments": {},
   "cell_type": "markdown",
   "metadata": {},
   "source": [
    "![CSP animation](https://github.com/adnasseri/AI_CSP_Repo/blob/main/csp%20animation.gif?raw=true)"
   ]
  },
  {
   "cell_type": "markdown",
   "metadata": {},
   "source": [
    "## 1.1. Variables\n",
    "\n",
    "The variables are: set of T trains {t1, t2, t3, t4, t5, t6, t7}. Each speed {320, 90, 200, 50, 120, 100, 160} represents the trains max speed respectively."
   ]
  },
  {
   "cell_type": "markdown",
   "metadata": {
    "direction": "rtl"
   },
   "source": [
    "## 1.1. متغيرات\n",
    "\n",
    "المتغيرات هي: مجموعة من T قطارات {t7 ,t6 ,t5 ,t4 ,t3 ,t2 ,t1}. كل سرعة {320, 90, 200, 50, 120, 100, 160} تعبر عن السرعة القصوى للقطار على التوالي."
   ]
  },
  {
   "cell_type": "markdown",
   "metadata": {},
   "source": [
    "<div class=\"alert alert-block alert-info\">\n",
    "<b>NOTE:</b> Trains variable is stored in a List with each train represented in index i+1. The value in index i+1 is the train's speed.\n",
    "</div>"
   ]
  },
  {
   "cell_type": "markdown",
   "metadata": {
    "direction": "rtl"
   },
   "source": [
    "<div class=\"alert alert-block alert-info\">\n",
    "<b>ملاحظة:</b> المتغير Trains مخزن في الهيكل البياني (List) وكل قطار يتم تعبييره في الموقع i+1. القيمة في الموقع i+1 هي قيمة القطار ذاتها.\n",
    "</div>"
   ]
  },
  {
   "cell_type": "code",
   "execution_count": 1,
   "metadata": {},
   "outputs": [],
   "source": [
    "Trains = [320, 90, 200, 50, 120, 100, 160]"
   ]
  },
  {
   "cell_type": "markdown",
   "metadata": {},
   "source": [
    "## 1.2. Domains\n",
    "\n",
    "The domains are: set of R railways {R1, R2, R3, R4} for each T train. Each speed {150, 120, 80, 350} represents the railways max speed limit respectively."
   ]
  },
  {
   "cell_type": "markdown",
   "metadata": {
    "direction": "rtl"
   },
   "source": [
    "## 1.2. مجالات\n",
    "\n",
    "المجالات هي: مجموعة من R سكك حديدية {R4 ,R3 ,R2 ,R1} لكل T قطار. كل سرعة {150, 120, 80, 350} تعبر عن السرعة القصوى للسكك الحديدية على التوالي."
   ]
  },
  {
   "cell_type": "markdown",
   "metadata": {},
   "source": [
    "<div class=\"alert alert-block alert-info\">\n",
    "<b>NOTE:</b> Rails variable is stored in a List with each rail represented in index i+1. The value in index i+1 is the rail's speed.\n",
    "</div>"
   ]
  },
  {
   "cell_type": "markdown",
   "metadata": {
    "direction": "rtl"
   },
   "source": [
    "<div class=\"alert alert-block alert-info\">\n",
    "<b>ملاحظة:</b> المتغير Rails مخزن في الهيكل البياني (List) وكل سكة يتم تعبييرها في الموقع i+1. القيمة في الموقع i+1 هي قيمة السكة ذاتها.\n",
    "</div>"
   ]
  },
  {
   "cell_type": "code",
   "execution_count": 2,
   "metadata": {},
   "outputs": [],
   "source": [
    "Rails = [150, 120, 80, 350]"
   ]
  },
  {
   "cell_type": "markdown",
   "metadata": {},
   "source": [
    "## 1.3. Constraints\n",
    "\n",
    "The constraints are:\n",
    "1. Every T train can be assigned to an R railway such that, the train's max speed must be less than or equal to the railway's max speed limit.\n",
    "2. Every Ti and Ti+1 trains must not be on the same railway. If Ti and Ti-1 both can be assigned to only one railway and is the same, then it’s  a failure."
   ]
  },
  {
   "cell_type": "markdown",
   "metadata": {
    "direction": "rtl"
   },
   "source": [
    "## 1.3. قيود\n",
    "\n",
    "القيود هي:\n",
    "\n",
    "1. كل T قطار يمكن تعيينه لـR سكة حديدية بحيث، ان سرعة القطار القصوى يجب ان تكون اصغر من او تساوي السرعة القصوى المحددة للسكة الحديدية.\n",
    "2. كل Ti و Ti+1 قطارات يجب ان لا تكون بنفس السكة الحديدية. اذا كان Ti و Ti-1 كلاهما يمكن تعيينهم لسكة واحدة فقط وهي السكة ذاتها، فإن ذلك يعتبر اخفاق. "
   ]
  },
  {
   "cell_type": "markdown",
   "metadata": {},
   "source": [
    "## 1.4. Relations\n",
    "\n",
    "The relations are:\n",
    "1. For all T, R; Ti $\\leq$ Rj.\n",
    "2. For all T, R; (Ti $\\land$ Ti+1) $\\neq$ Rj."
   ]
  },
  {
   "cell_type": "markdown",
   "metadata": {
    "direction": "rtl"
   },
   "source": [
    "## 1.4. علاقات\n",
    "العلاقات هي:\n",
    "1. لكل T و R; قيم Ti يجب ان تكون اصغر من او تساوي ($\\geq$) Rj\n",
    "2. لكل T و R; قيم Ti و Ti+1 يجب ان لا تساوي ($\\neq$) Rj "
   ]
  },
  {
   "cell_type": "markdown",
   "metadata": {},
   "source": [
    "<div class=\"alert alert-block alert-info\">\n",
    "<b>NOTE:</b> The next picture is a graph representation of the Problem.\n",
    "</div>"
   ]
  },
  {
   "cell_type": "markdown",
   "metadata": {
    "direction": "rtl"
   },
   "source": [
    "<div class=\"alert alert-block alert-info\">\n",
    "<b>ملاحظة:</b> الصورة التالية هي عبارة عن هيكل بياني للمشكلة.\n",
    "</div>"
   ]
  },
  {
   "attachments": {},
   "cell_type": "markdown",
   "metadata": {},
   "source": [
    "![CSP graph](https://github.com/adnasseri/AI_CSP_Repo/blob/main/csp_graph.png?raw=true)"
   ]
  },
  {
   "cell_type": "markdown",
   "metadata": {},
   "source": [
    "## 1.5. Solutions\n",
    "There are multiple solutions. So, one solution will suffice.\n",
    "\n",
    "{t1 = r1, t2 = r2, t3 = r1, t4 = r3, t5 = r4, t6 = r2, t7 = r1}"
   ]
  },
  {
   "cell_type": "markdown",
   "metadata": {
    "direction": "rtl"
   },
   "source": [
    "## 1.5. حلول\n",
    "هناك حلول عديدة للمشكلة. اذا، واحدة سوف تكفي.\n",
    "\n",
    "{t1 = r1, t2 = r2, t3 = r1, t4 = r3, t5 = r4, t6 = r2, t7 = r1}"
   ]
  },
  {
   "cell_type": "markdown",
   "metadata": {},
   "source": [
    "***"
   ]
  },
  {
   "cell_type": "markdown",
   "metadata": {},
   "source": [
    "# 2. Problem formulation\n",
    "2.1. <span style=\"color: purple;\"><b>Initial state:</b></span> Every train hasn't been assigned to a railway yet. All railways are clear.<br>\n",
    "2.2. <span style=\"color: purple;\"><b>Actions:</b></span> Check train Ti's speed so that we can figure out the railways that are applicable, then assign train Ti.<br>\n",
    "2.3. <span style=\"color: purple;\"><b> Goal test:</b></span> All trains have been assigned to their railways depending on the constraints. Every assignement is complete and satisfiable.<br>\n",
    "2.4. <span style=\"color: purple;\"><b> State space:</b></span> The state space consists of the initial state, actions and goal test as follows:-<br>\n",
    "> - Inital state $\\to$ {t1 = ' ', t2 = ' ', t3 = ' ', t4 = ' ', t5 = ' ', t6 = ' ', t7 = ' '}<br>\n",
    "NOTE: The single quotes ('') means that the variable has no assigned value (empty).<br>\n",
    "> - Actions $\\to$ Actions(t1, t2, ..., t7) = {ToR1, ToR2, ToR3, ToR4}<br>\n",
    "Note: To_Ri is an action or a function that assigns a train to a railway.\n",
    "> - Goal test $\\to$ {t1 = r $\\in$ R, t2 = r $\\in$ R, t3 = r $\\in$ R, t4 = r $\\in$ R, t5 = r $\\in$ R, t6 = r $\\in$ R, t7 = r $\\in$ R} such that all constraints are satisfied."
   ]
  },
  {
   "cell_type": "markdown",
   "metadata": {
    "direction": "rtl"
   },
   "source": [
    "# 2. صياغة المشكلة\n",
    "2.1. <span style=\"color: purple;\"><b>الحالة الأبتدائية:</b></span>  كل القطارات لم يتم تعيينها الى سكة حديدية بعد. كل السكك خالية.<br>\n",
    "2.2. <span style=\"color: purple;\"><b>الأفعال:</b></span>  التحقق من سرعة القطار Ti لاجل ان نحدد السكك الحديدية المقبولة، ثم تعيينه.<br>\n",
    "2.3. <span style=\"color: purple;\"><b>اختبار الهدف:</b></span>  كل القطارات تم تعيينها لسككها اعتماداً على القيود. كل التعيينات تمت وبرضاء.<br>\n",
    "2.4. <span style=\"color: purple;\"><b>فضاء الحالة:</b></span>  فضاء الحالة مكون من الحالة الابتدائية، الافعال و اختبار الهدف على النحو الاآتي:-<br>\n",
    "> - الاحالة الابتدائية $\\gets$ {t1 = ' ', t2 = ' ', t3 = ' ', t4 = ' ', t5 = ' ', t6 = ' ', t7 = ' '} \n",
    "<br> ملاحظة: علامة الاقتباس ('') تعني ان المتغير لم يتم تعيين قيمة له (فارغ).<br>\n",
    "> - الافعال $\\gets$ {ToR1, ToR2, ToR3, ToR4} = Actions(t1, t2, ..., t7) \n",
    "<br> ملاحظة: الفعل او الدالة To_Ri مهمتها تعيين قطار الى سكة.<br>\n",
    "> - اختبار الهدف $\\gets$ {t1 = r $\\in$ R, t2 = r $\\in$ R, t3 = r $\\in$ R, t4 = r $\\in$ R, t5 = r $\\in$ R, t6 = r $\\in$ R, t7 = r $\\in$ R} بحيث يتم استيفاء جميع القيود."
   ]
  },
  {
   "cell_type": "markdown",
   "metadata": {},
   "source": [
    "# 3. Constraint Satisfaction Problems\n",
    "As we mentioned in the introduction and how we defined CSPs, they are considered as an every day problems, we face them frequently. There are many CSP problems that we have encountered before such as, Time-table scheduling, Map coloring, Sudoku, Crosswords, Transportation scheduling and Eight queens puzzle. Solving CSPs can lead us sometimes to the best decision because these problems are confined in some constraints. Constraint satisfaction problems on finite domains are typically done using a form of search. The most used methods are variants of backtracking, constraint propagation and local search. "
   ]
  },
  {
   "cell_type": "markdown",
   "metadata": {
    "direction": "rtl"
   },
   "source": [
    "# 3. مشكلة ارضاء القيود\n",
    "كما ذكرنا في المقدمة و كيف عرفنا الـCSP، فإنها تعتبر من المشاكل اليومية، والتي نواجهها بشكل متكرر. هناك العديد من مشاكل الـCSP التي قد سبق وان واجهناها مثل، جدولة الجداول الزمنية، تلوين الخرائط، سودوكو، الكلمات المتقطعة، جدولة النقل و لغز الملكات الثمانية (الشطرنج). حل مشاكل الـCSP ممكن ان تقودنا الى القرار الامثل بسبب انها محصوره بقيود معينه. مشكلة ارضاء القيود في مجال محدود بالعادة يتحل حله باستخدام شكل من اشكال البحث. الطرق الاكثر استخداماً هي نوع من انواع التراجع، انتشار القيود والبحث المحلي."
   ]
  },
  {
   "cell_type": "markdown",
   "metadata": {},
   "source": [
    "# 4. Heuristics for CSPs\n",
    "Constraint Satisfaction Problems can be solved through some techniques or Algorithms. One of the most popular Algorithms is Backtracking, which is a general search strategy which has been widely used in problem solving. But Backtracking as it self is a basic uninformed Algorithm for CSPs. We can improve Backtracking Efficiency through two types of heuristics:\n",
    "> - Variable and Value Ordering: in what order should variables be assigned, values be tried?\n",
    "> - Constraint propagation (Filtering): Can we detect inevitable failure early? \n",
    "\n",
    "First, there are multiple Variable and Value Ordering that can be implemented, but we will talk about these two; Minimum remaining values (MRV) and least constraining value (LCV). MRV picks the variable with the most “illegal” values, also named \"most constrained variable\" or \"fail-first\" heuristic. Choosing the variable that has the highest number of constraints on other unassigned variables, also called degree heuristics. For LCV, choose the variable that excludes the fewest values in the remaining variables.<br>\n",
    "Now for the Constraint propagation heuristics, which is, repeatedly enforces constraints locally by propagating implications of a constraint of one variable onto other variables. There are two popular Algorithms; Forward checking (FR) and Arc Consistency (AC-3), both will be discussed thoroughly in the Algorithms part."
   ]
  },
  {
   "cell_type": "markdown",
   "metadata": {
    "direction": "rtl"
   },
   "source": [
    "# 4. الاستدلال لمشاكل ارضاء القيود\n",
    "مشاكل ارضاء القيود يمكن حلها عبر طرق او خوارزميات. واحدة من اشهر الخوارزميات هي خوارزمية التراجع، والتي هي خوارزمية عامية البحث وقد تم استخدامها بنطاق واسع في حل المشاكل. لكن خوارزمية التراجع بحد ذاتها خوارزمية بدائية غير مطّلعة لـcsp. يمكننا تحسيين من كفاءة خوارزمية التراجع عن طريق نوعان من الاستدلال:\n",
    "> - ترتيب المتغيرات والقيم: في أي ترتيب يجب تعيين المتغيرات، يتم تجربة القيم؟\n",
    "> - انتشار القيد (الفلتره): هل يمكننا اكتشاف الفشل الحتمي مبكرًا؟ مرارًا وتكرارًا يفرض قيودًا محلية عن طريق نشر الاثار المترتبة لقيود متغير واحد على متغيرات أخرى.\n",
    "\n",
    "اولاً، هناك العديد من الترتيبات للمتغيرات والقيم التي يمكن تنفيذها، لكن سنتكلم حول هاتين؛ القيم الدنيا المتبقية (MRV) و أقل قيمة مقيدة (LCV). MRV تأخذ المتغير ذو الاكثر قيم مخالفة للقيود، وايضا تسمى \"اكثر قيمة مقيدة\" او \"تفشل أولا\" استدلالية. اختيار المتغير ذو اكبر عدد من القيود على المتغيرات الاخرى التي لم يتم تعيينها بعد، ايضا يطلق عليها \"استدلال الدرجة\". اما الـLCV،\n",
    "فهي تختار المتغير الذي يستبعد اقل قيم ممكنة للمتغيرات المتبقية.<br>\n",
    "اما الان بالنسبة لأستدلالات انتشار القيد، والتي هي، مرارًا وتكرارًا يفرض قيودًا محلية عن طريق نشر الاثار المترتبة لقيود متغير واحد على متغيرات أخرى. هناك خوارزمياتان من الخوارزميات المشهورة؛ خوارزمية الفخص الى الامام (FR) و خوارزمية توافق القوس (AC-3)، كلاهما سيتم شرحهما بالتفصيل في جزئية الخوارزميات."
   ]
  },
  {
   "cell_type": "markdown",
   "metadata": {},
   "source": [
    "# 5. Algorithms\n",
    "## 5.1. Arc Consistency (AC-3)\n",
    "### 5.1.1. Explanation\n",
    "A CSP variable is arc-consistent if each value in its domain satisfies the variable’s binary constraints. More formally, Xi is arc-consistent with respect to another variable Xj if for every value in the current domain Di there is some value in the domain Dj that satisfies the binary constraint on the arc (Xi, Xj ). The simplest form of propagation makes each arc consistent. Arc consistency discovers failure quicker than forward checking and it can be operated as a preprocessor or after each assignment."
   ]
  },
  {
   "cell_type": "markdown",
   "metadata": {
    "direction": "rtl"
   },
   "source": [
    "# 5. خوارزميات\n",
    "## 5.1. توافق القوس (AC-3)\n",
    "### 5.1.1. شرح\n",
    "اي متغير في الـCSP يعتبر متوافقاً اذا كان كل قيمة في مجاله تستوفي القيود الثنائية للمتغير. اكثر رسميا، Xi d يكون متوافقا بالنسبة لمتغير اخر Xj اذا كان كل قيمة في المجال الحالي Di يوجد له قيمة في المجال Dj والتي تستوفي القيود الثنائية في القوس (Xi, Xj). ابسط شكل من الانتشار يجعل كل قوس متوافقا. توافق القوس يكتشف الاخطاء اسرع من خوارزمية الفحص الى الامام و يمكن تشغيلها كمعالجة سبقية او بعد كل تعيين. "
   ]
  },
  {
   "cell_type": "markdown",
   "metadata": {},
   "source": [
    "### 5.1.2. Implementation\n",
    "Every implementation of AC-3 or infact every Algorithm that will be discussed depends on the CSP and it's nature, there is a lot of ways to implement it. Although, the idea it self is the same. Below is a pseudocode of the AC-3 Algorithm. Function AC-3 returns the CSP, possibly with reduced domians. Function Remove-Inconsistent-Values returns true if and only if it succeeds."
   ]
  },
  {
   "cell_type": "markdown",
   "metadata": {
    "direction": "rtl"
   },
   "source": [
    "### 5.1.2. التطبيق\n",
    "كل تطبيق لخوارزمية الـAC-3 او بالاحرى جميع الخوارزميات التي سوف نناقشها تعتمد على طبيعة الـCSP، هناك العديد من الطرق المختلفة لتطبيق الخوارزمية. لكن برغم ذلك، فإن الفكرة هي ذاتها. بالأسفل يوجد شبه خوارزمية لـAC-3. الدالة (AC-3) تسترجع CSP، ومن المحتمل تم تقليص المجال. الدالة (Remove-Inconsistent-Values) تسترجع صحيح (true) فقط عندما تنجح. "
   ]
  },
  {
   "attachments": {},
   "cell_type": "markdown",
   "metadata": {},
   "source": [
    "![AC3 pseudocode](https://github.com/adnasseri/AI_CSP_Repo/blob/main/ac-3%20pseudocode.png?raw=true)"
   ]
  },
  {
   "cell_type": "markdown",
   "metadata": {},
   "source": [
    "### 5.1.3. Applying Algorithm\n",
    "Below is an implementation for AC3 and applyment on our poblem."
   ]
  },
  {
   "cell_type": "markdown",
   "metadata": {
    "direction": "rtl"
   },
   "source": [
    "### 5.1.3. تنفيذ الخوارزمية على المشكلة\n",
    "بالاسفل يوجد تطبيق و تنفيذ لخوارزمية الـAC3 على المشكلة المطروحة."
   ]
  },
  {
   "cell_type": "code",
   "execution_count": 3,
   "metadata": {},
   "outputs": [
    {
     "name": "stdout",
     "output_type": "stream",
     "text": [
      "The original list : [150, 120, 80, 350]\n",
      "320 matching speeds [350]\n",
      "possible tracks  [4]\n",
      "-----------------\n",
      "90 matching speeds [150, 120, 350]\n",
      "possible tracks  [1, 2, 4]\n",
      "-----------------\n",
      "200 matching speeds [350]\n",
      "possible tracks  [4]\n",
      "-----------------\n",
      "50 matching speeds [150, 120, 80, 350]\n",
      "possible tracks  [1, 2, 3, 4]\n",
      "-----------------\n",
      "120 matching speeds [150, 120, 350]\n",
      "possible tracks  [1, 2, 4]\n",
      "-----------------\n",
      "100 matching speeds [150, 120, 350]\n",
      "possible tracks  [1, 2, 4]\n",
      "-----------------\n",
      "160 matching speeds [350]\n",
      "possible tracks  [4]\n",
      "-----------------\n",
      "Solution set is :   [[350], [150, 120, 350], [350], [150, 120, 80, 350], [150, 120, 350], [150, 120, 350], [350]]\n",
      "______________________________________________________________________________________________________\n"
     ]
    }
   ],
   "source": [
    "# Compares two lists, and returns identical elements in both.\n",
    "# For AC3 algorithm.\n",
    "def ListCompare(x, y):\n",
    "    return [element for element in x if element in y]\n",
    "\n",
    "\n",
    "# Check if possible tracks of two consecutive trains\n",
    "# have the same track if both lists length are 1.\n",
    "# For AC3 algorithm\n",
    "def CheckSameTrack(x, y):\n",
    "    if len(x) == 1 and len(y) == 1:\n",
    "        print(\"2nd constraint failure\")\n",
    "\n",
    "\n",
    "# Find the possible tracks for next train.\n",
    "# For AC3 algorithm.\n",
    "def GetNextTracks(n):\n",
    "    t = []\n",
    "    for i in range(0, len(Rails)):\n",
    "        if Rails[i] >= Trains[n]:\n",
    "            t.append(i + 1)\n",
    "    return t\n",
    "\n",
    "def AC3(Trains, Rails):\n",
    "    # initializing list\n",
    "    tracks = []\n",
    "    solution = []\n",
    "    # printing original list\n",
    "    print(\"The original list : \" + str(Rails))\n",
    "    # sol is list of res lists. After revision values only.\n",
    "    sol = []\n",
    "    # iterate through all variables in trains' list ( trainss' speeds)\n",
    "    for j in range(0, len(Trains)):\n",
    "        # res list is the result of each train in every iteration.\n",
    "        res = []\n",
    "        # curr list is the current train tracks to be compared with the next train tracks.\n",
    "        curr = []\n",
    "        for idx in range(0, len(Rails)):\n",
    "            # iterate through all domain values (rails max speeds)\n",
    "            if Rails[idx] >= Trains[j]:\n",
    "                # check if track speed complies with the first constraint, if so we collect all matching tracks\n",
    "                # into a list for further checking\n",
    "                res.append(Rails[idx])\n",
    "                # the current train possible tracks\n",
    "                # will be stored in curr list for further checking\n",
    "                curr.append(idx + 1)\n",
    "        # check if first constraint is success, if so proceed to the second constraint\n",
    "        print(Trains[j], \"matching speeds\", str(res))\n",
    "        print(\"possible tracks \", curr)\n",
    "        # if no tracks' speeds were collected, then the first constraint is violated and will quit\n",
    "        # this cycle and test next train if found\n",
    "        if not res:\n",
    "            print(\"1st constraint faliure\")\n",
    "        # if some tracks' speeds were collected, then we proceed to test them against second constraint\n",
    "        if res:\n",
    "            # if we reach the last train in the list therefore no need to test the second constraint,\n",
    "            # otherwise we proceed for testing\n",
    "            if j < len(Trains) - 1:\n",
    "                # Here we test the next train to find out if it complies with the first constraint.\n",
    "                # A function called to return a list of possible tracks\n",
    "                post = GetNextTracks(j + 1)\n",
    "                comp1 = ListCompare(post, curr)\n",
    "                comp2 = ListCompare(curr, post)\n",
    "                # current possible tracks with the next train's possible tracks will be compared to test the second constraint\n",
    "                if comp1 and comp2:\n",
    "                    # If comparison found, then the 2 list will be tested against the second constraint.\n",
    "                    # If true, then clear the res list.\n",
    "                    if CheckSameTrack(post, curr):\n",
    "                        res.clear()\n",
    "        print(\"-----------------\")\n",
    "        tracks.append(curr[:])\n",
    "        solution.append(res[:])\n",
    "        sol = list(set(sol + res[:]))\n",
    "    print(\"Solution set is :  \", solution)\n",
    "    print(\"______________________________________________________________________________________________________\")\n",
    "\n",
    "    return solution, tracks\n",
    "\n",
    "sol, tracks = AC3(Trains, Rails)"
   ]
  },
  {
   "cell_type": "markdown",
   "metadata": {},
   "source": [
    "## 5.2. Backtracking with AC-3\n",
    "### 5.2.1. Explanation\n",
    "Backtracking, which is a general search strategy that has been widely used in problem-solving. In the CSP context, the essential process is selecting one variable and considering one value for it at a time, making sure that the recently chosen label is compatible with all the labels selected so far. The Assignment of a value to a variable is called labeling. If labeling the current variable with the picked value violates certain constraints, then an alternative value, when available, is selected. If all the variables are labeled, then the problem is solved. Suppose at any stage no value can be assigned to a variable without violating any constraints. In that case, the last picked label is revised, and an alternative value, when available, is assigned to that variable. This goes on until either a solution is found or all the combinations of labels have been tried and have failed. Below is a flow chart that explains the procedures of Backtracking"
   ]
  },
  {
   "cell_type": "markdown",
   "metadata": {
    "direction": "rtl"
   },
   "source": [
    "## 5.2. خوارزمية التراجع مع استخدام الـAC-3\n",
    "### 5.2.1. شرح\n",
    "خوارزمية التراجع، والتي هي تعتبر طريقة بحث عامة تم استخدامة بنطاق واسع في حل المشاكل. في سياق الـCSP، العمل الاساسي للخوارزمية هي انها تختار متغير واحد مع مراعاة قيمة واحدة حاليا، مع التأكد من توافق الملصق الذي تم اختياره مؤخرًا متوافق مع جميع الملصقات المحددة حتى الآن. عملية تعيين قيمة لمتغير تسمى إلصاق (Labeling). اذا كان إلصاق المتغير الحالي بالقيمة المختارة تنتهك بعض القيود، اذا يتم اختيار قيمة اخرى، ان وجدت. اذا كان جميع المتغيرات تم الصاقها، فإن المشكلة تم حلها. فلنفترض في اي مرحلة لا يمكن الصاق قيمة لمتغير من دون انتهاك اي قيود. في تلك الحالة، الملصق الذي تم اختياره اخراً يتم مراجعته، وان وجدت قيمة اخرى، يتم تعيينها لذلك المتغير. الخوارزمية تسلك هذا المجرى حتى ان تجد حل او ان جميع الاحتمالات للملصقات تم تجبرتها وفشلت. بالاسفل يوجد مخطط سير لشرح لاجراءات خوارزمية التراجع. "
   ]
  },
  {
   "attachments": {},
   "cell_type": "markdown",
   "metadata": {},
   "source": [
    "![BT flowchart](https://github.com/adnasseri/AI_CSP_Repo/blob/main/BT%20flowchart.png?raw=true)"
   ]
  },
  {
   "cell_type": "markdown",
   "metadata": {},
   "source": [
    "### 5.2.2. Implementation\n",
    "The algorithm is modeled on the recursive depth-first search. The function Backtracking-Search calls The Recursive-Backtracking function that either returns solution or failure. Belowis a pseudocode for Backtracking Algorithm."
   ]
  },
  {
   "cell_type": "markdown",
   "metadata": {
    "direction": "rtl"
   },
   "source": [
    "### 5.2.2. التطبيق\n",
    "تم تصميم الخوارزمية على أساس البحث المتكرر للعمق أولاً. تستدعي الدالة (Backtracking-Search) الدالة (Recursive-Backtracking) التي تُرجع حل أو فشل. يوجد أدناه شبه خوارزمية لخوارزمية التراجع."
   ]
  },
  {
   "attachments": {},
   "cell_type": "markdown",
   "metadata": {},
   "source": [
    "![BT pseudocode](https://github.com/adnasseri/AI_CSP_Repo/blob/main/BT%20pseudocode.png?raw=true)"
   ]
  },
  {
   "cell_type": "markdown",
   "metadata": {},
   "source": [
    "### 5.2.3. Applying Algorithm\n",
    "Below is an implementation for BT with AC3 and applyment on our poblem."
   ]
  },
  {
   "cell_type": "markdown",
   "metadata": {
    "direction": "rtl"
   },
   "source": [
    "### 521.3. تنفيذ الخوارزمية على المشكلة\n",
    "بالاسفل يوجد تطبيق و تنفيذ لخوارزمية الـBT مع استخدام خوارزمية AC3 على المشكلة المطروحة. "
   ]
  },
  {
   "cell_type": "code",
   "execution_count": 4,
   "metadata": {},
   "outputs": [
    {
     "name": "stdout",
     "output_type": "stream",
     "text": [
      "Domain : [350]\n",
      "Solution is train with speed  320 at Rail   4\n",
      "Domain : [150, 120, 350]\n",
      "Solution is train with speed  90 at Rail   1\n",
      "Domain : [350]\n",
      "Solution is train with speed  200 at Rail   4\n",
      "Domain : [150, 120, 80, 350]\n",
      "Solution is train with speed  50 at Rail   1\n",
      "Domain : [150, 120, 350]\n",
      "Solution is train with speed  120 at Rail   2\n",
      "Domain : [150, 120, 350]\n",
      "Solution is train with speed  100 at Rail   1\n",
      "Domain : [350]\n",
      "Solution is train with speed  160 at Rail   4\n"
     ]
    }
   ],
   "source": [
    "# Find possible tracks of the next train.\n",
    "# It's parameters are: (Next train's speed, Current train's rail index).\n",
    "# Returns false if same track is found as current track.\n",
    "# For BT and FC algorithm\n",
    "def Check2ndConstraint(speed, idx):\n",
    "    k = []\n",
    "    # Loop through rails list and append the applicable rails index into a list.\n",
    "    for i in range(0, len(Rails)):\n",
    "        if Rails[i] >= speed:\n",
    "            k.append(i)\n",
    "            c = i\n",
    "    # Check the new list. If only one rail exists and it's index equals to the current train's rail, it returns false.\n",
    "    # Otherwise it returns true.\n",
    "    if len(k) == 1 and c == idx:\n",
    "        return False\n",
    "    return True\n",
    "\n",
    "\n",
    "# Find possible tracks of the next train.\n",
    "# It's parameters are: (Previous Rail, Current Rails list).\n",
    "# Returns first possible rail (not equal to previous rail).\n",
    "# For BT algorithm\n",
    "def GetProperTrack(PrevTrack, CurrTrackList):\n",
    "    for k in range(0, len(CurrTrackList)):\n",
    "        if PrevTrack != CurrTrackList[k]:\n",
    "            return CurrTrackList[k]\n",
    "        \n",
    "        \n",
    "# BT parameters are: (Original trains list, list of solution lists from AC3, list of rails\n",
    "# (indices to preserve rail actual number) list from AC3).\n",
    "def BT(Trains, sol, tracks):\n",
    "    SolutionFound = False\n",
    "    # Iterate in the train's list to test all trains against tracks that are resultant of AC3 algorithm.\n",
    "    for tr in range(0, len(Trains)):\n",
    "        # Assign Rails list in every iteration with the sub list of sol list of lists.\n",
    "        Rails = sol[tr]\n",
    "        print(\"Domain : \" + str(Rails))\n",
    "        # Iterate in the Rails's list to test it against the current train from train's list\n",
    "        for idx in range(0, len(Rails)):\n",
    "            # check the first constraint, if one train success , then proceed to the second constraint\n",
    "            if Rails[idx] >= Trains[tr]:\n",
    "                # if one train is success at first constraint, then the current and next\n",
    "                # trains will be tested against the second constraint\n",
    "                if tr == len(Trains) - 1:\n",
    "\n",
    "                    # if last train in the list is reached, then no need to test it against\n",
    "                    # the second constraint and we consider solution is found\n",
    "                    SolutionFound = True\n",
    "                else:\n",
    "                    # for trains in the list except the last one, will be tested against the second constraint\n",
    "                    # if the returned value of Check2ndConstraint function is true, then there is no violation.\n",
    "                    if Check2ndConstraint(Trains[tr + 1], idx):\n",
    "                        SolutionFound = True\n",
    "                if SolutionFound:\n",
    "                    # For first train, it's track is taken from the tracks list of lists from AC3.\n",
    "                    if tr == 0:\n",
    "                        # Get the first list in track list of lists.\n",
    "                        track = tracks[tr]\n",
    "                        # Get the first track number in the list.\n",
    "                        track = track[0]\n",
    "                        print(\"Solution is train with speed \", Trains[tr], \"at Rail  \", track)\n",
    "                        # When solution is found, then break and go to the next cycle.\n",
    "                        break\n",
    "                    # If not the first train, then we compare the previous track with the current train's track list.\n",
    "                    else:\n",
    "                        # Compares the previous track number with the current train's track list.\n",
    "                        # And returns the possible track number which must be not the same as the previous.\n",
    "                        track = GetProperTrack(track, tracks[tr])\n",
    "                        print(\"Solution is train with speed \", Trains[tr], \"at Rail  \", track)\n",
    "                        # When solution is found, then break and go to the next cycle.\n",
    "                        break\n",
    "                        \n",
    "btresult = BT(Trains, sol, tracks)"
   ]
  },
  {
   "cell_type": "markdown",
   "metadata": {},
   "source": [
    "## 5.3. Forward Checking\n",
    "### 5.3.1. Explanation\n",
    "Forward Checking (FC) does precisely the same thing as BT except that it maintains the invariance that for every unlabelled variable there exists at least one value in its domain which is compatible with the labels that have been committed to. To ensure that this is true, every time a label L is committed to, FC will remove values from the domains of the unlabelled variables which are incompatible with L. If the domain of any of the unlabelled variables is reduced to an empty set, then L will be rejected. Otherwise, FC would try to label the unlabelled variable, until all the variables have been labelled. In case all the labels of the current variable have been rejected, FC will backtrack to the previous variable as BT does. If there is no variable to backtrack to, then the problem is unsolvable."
   ]
  },
  {
   "cell_type": "markdown",
   "metadata": {
    "direction": "rtl"
   },
   "source": [
    "## 5.3. خوارزمية الفحص الى الامام\n",
    "### 5.3.1. شرح\n",
    "يقوم Forward Checking (FC) بالضبط بنفس الشيء مثل BT فيما عدا أنه يحافظ على الثبات أنه لكل متغير غير موسوم توجد قيمة واحدة على الأقل في مجالها والتي تتوافق مع الملصقات التي تم الالتزام بها. للتأكد من أن هذا صحيح ، في كل مرة يتم فيها الالتزام بالتسمية L ، ستزيل FC القيم من نطاقات المتغيرات غير الموسومة التي لا تتوافق مع L. إذا تم تقليل مجال أي من المتغيرات غير الموسومة إلى مجموعة فارغة ، فعندئذٍ سيتم رفض L. خلاف ذلك ، سيحاول FC تسمية المتغير غير الموسوم ، حتى يتم تسمية جميع المتغيرات. في حالة رفض جميع تسميات المتغير الحالي ، ستعود FC إلى المتغير السابق كما تفعل BT. إذا لم يكن هناك متغير للرجوع إليه ، فإن المشكلة غير قابلة للحل."
   ]
  },
  {
   "cell_type": "markdown",
   "metadata": {},
   "source": [
    "### 5.3.2. Implementation\n",
    "FC can be implemented in many ways. Below is a rough idea of the Algorithm and how to implement it. FC can be modeled as an improved BT Algorithm."
   ]
  },
  {
   "cell_type": "markdown",
   "metadata": {
    "direction": "rtl"
   },
   "source": [
    "### 5.3.2. التطبيق\n",
    "يمكن تنفيذ FC بعدة طرق. فيما يلي فكرة تقريبية عن الخوارزمية وكيفية تنفيذها. يمكن نمذجة FC كخوارزمية BT محسّنة."
   ]
  },
  {
   "attachments": {},
   "cell_type": "markdown",
   "metadata": {},
   "source": [
    "![FC pseudocode](https://github.com/adnasseri/AI_CSP_Repo/blob/main/FC%20pseudocode.png?raw=true)"
   ]
  },
  {
   "cell_type": "markdown",
   "metadata": {},
   "source": [
    "### 5.3.3. Applying Algorithm\n",
    "Below is an implementation for FC and applyment on our poblem."
   ]
  },
  {
   "cell_type": "markdown",
   "metadata": {
    "direction": "rtl"
   },
   "source": [
    "### 5.3.3. تنفيذ الخوارزمية على المشكلة\n",
    "بالاسفل يوجد تطبيق و تنفيذ لخوارزمية الـFC على المشكلة المطروحة."
   ]
  },
  {
   "cell_type": "code",
   "execution_count": 5,
   "metadata": {},
   "outputs": [
    {
     "name": "stdout",
     "output_type": "stream",
     "text": [
      "Domain : [350]\n",
      "Solution is train with speed  320 at Rail   4\n",
      "Domain : [150, 120, 350]\n",
      "Solution is train with speed  90 at Rail   1\n",
      "Domain : [350]\n",
      "Solution is train with speed  200 at Rail   4\n",
      "Domain : [150, 120, 80, 350]\n",
      "Solution is train with speed  50 at Rail   1\n",
      "Domain : [150, 120, 350]\n",
      "Solution is train with speed  120 at Rail   2\n",
      "Domain : [150, 120, 350]\n",
      "Solution is train with speed  100 at Rail   1\n",
      "Domain : [350]\n",
      "Solution is train with speed  160 at Rail   4\n"
     ]
    }
   ],
   "source": [
    "# Check all neighbour rails against the current train.\n",
    "# This function do forward checking on the domain\n",
    "# It's parameter is a train speed\n",
    "# For FC algorithm\n",
    "def CheckNeighbours(j):\n",
    "    index = 0\n",
    "    # d is a copy from original rails list.\n",
    "    d = Rails[:]\n",
    "    # Iterate through d and prune out the unsatisfied rails' speeds.\n",
    "    while index < len(d):\n",
    "        if d[index] < Trains[j]:\n",
    "            d.pop(index)\n",
    "            continue\n",
    "        index += 1\n",
    "    # Return the remaining and satisfied rails' speeds(satisfying first constraint).\n",
    "    return d\n",
    "\n",
    "def FC(Trains, Rails):\n",
    "    RailsCopy = Rails[:]\n",
    "    AssignedTrack = []\n",
    "    SolutionFound = False\n",
    "    # Iterate in the train's list to test all trains against track's list according to our constraint.\n",
    "    for tr in range(0, len(Trains)):\n",
    "        # Rails is the satisfying rails' speeds.\n",
    "        Rails = CheckNeighbours(tr)\n",
    "        print(\"Domain : \" + str(Rails))\n",
    "        # Iterate in the Rails's list to test it against the current train from train's list\n",
    "        for idx in range(0, len(Rails)):\n",
    "            # check the first constraint, if one train success, then proceed to the second constraint\n",
    "            if Rails[idx] >= Trains[tr]:\n",
    "                # To find the actual track index in the original rails list\n",
    "                # because after pruning indices will be changed.\n",
    "                ActualTrack = RailsCopy.index(Rails[idx]) + 1\n",
    "                # If last train in the list, then we will not test it against the second constraint\n",
    "                # and we consider solution is found\n",
    "                if tr == len(Trains) - 1:\n",
    "                    SolutionFound = True\n",
    "                # for trains in the list except the last one, will be tested against the second constraint\n",
    "                # if the returned value of Check2ndConstraint function is true, then there is no violation.\n",
    "                else:\n",
    "                    if Check2ndConstraint(Trains[tr + 1], idx):\n",
    "                        SolutionFound = True\n",
    "                if SolutionFound:\n",
    "                    if tr == 0:\n",
    "                        # For first train, it's actual track is appended in a list.\n",
    "                        AssignedTrack.append(ActualTrack)\n",
    "                        print(\"Solution is train with speed \", Trains[tr], \"at Rail  \", ActualTrack)\n",
    "                        break\n",
    "                    else:\n",
    "                        # Otherwise, current actual track is compared to the last appended track\n",
    "                        # and if they are equal, then will continue to the next iteration\n",
    "                        # to assign a satisfied track. current and previous track must be not the same.\n",
    "                        if ActualTrack == AssignedTrack[len(AssignedTrack) - 1]:\n",
    "                            continue\n",
    "                        # Else, the current actual track is appended.\n",
    "                        else:\n",
    "                            AssignedTrack.append(ActualTrack)\n",
    "                            print(\"Solution is train with speed \", Trains[tr], \"at Rail  \", ActualTrack)\n",
    "                            break\n",
    "\n",
    "fcresult = FC(Trains, Rails)"
   ]
  },
  {
   "cell_type": "markdown",
   "metadata": {},
   "source": [
    "# 6. Algorithms Performance \n",
    "We will check for performance by calculating every algorithm's speed (time to complete). As we can see below, AC3 and FC algorithms have the same performance. While BT has better performance (since it's run time is lower), because BT got the reduced domains from AC3. combining the times of AC3 and BT, we can conclude that FC has better performance, BT's performance after getting the reduced domains from AC3 is faster."
   ]
  },
  {
   "cell_type": "markdown",
   "metadata": {
    "direction": "rtl"
   },
   "source": [
    "# 6. اداء الخوارزميات\n",
    "سوف نتحقق من اداء كل خوارزمية بحساب سرعتها (الوقت لانتهائها). كم نرى بالاسفل، خوارزميات AC3 و FC لها نفس الأداء. بينما تتمتع BT بأداء أفضل (نظرًا لأن وقت تشغيلها أقل)، لأن BT حصلت على المجالات المخفضة من AC3. بدمج أوقات AC3 و BT ، يمكننا أن نستنتج أن FC لديها أداء أفضل ، وأداء BT بعد الحصول على المجالات المخفضة من AC3 يكون أسرع."
   ]
  },
  {
   "cell_type": "code",
   "execution_count": 6,
   "metadata": {
    "scrolled": false
   },
   "outputs": [
    {
     "name": "stdout",
     "output_type": "stream",
     "text": [
      "The original list : [150, 120, 80, 350]\n",
      "320 matching speeds [350]\n",
      "possible tracks  [4]\n",
      "-----------------\n",
      "90 matching speeds [150, 120, 350]\n",
      "possible tracks  [1, 2, 4]\n",
      "-----------------\n",
      "200 matching speeds [350]\n",
      "possible tracks  [4]\n",
      "-----------------\n",
      "50 matching speeds [150, 120, 80, 350]\n",
      "possible tracks  [1, 2, 3, 4]\n",
      "-----------------\n",
      "120 matching speeds [150, 120, 350]\n",
      "possible tracks  [1, 2, 4]\n",
      "-----------------\n",
      "100 matching speeds [150, 120, 350]\n",
      "possible tracks  [1, 2, 4]\n",
      "-----------------\n",
      "160 matching speeds [350]\n",
      "possible tracks  [4]\n",
      "-----------------\n",
      "Solution set is :   [[350], [150, 120, 350], [350], [150, 120, 80, 350], [150, 120, 350], [150, 120, 350], [350]]\n",
      "______________________________________________________________________________________________________\n",
      "Runtime of AC3 program is 0.5285\n",
      "____________________________________________________\n",
      "Domain : [350]\n",
      "Solution is train with speed  320 at Rail   4\n",
      "Domain : [150, 120, 350]\n",
      "Solution is train with speed  90 at Rail   1\n",
      "Domain : [350]\n",
      "Solution is train with speed  200 at Rail   4\n",
      "Domain : [150, 120, 80, 350]\n",
      "Solution is train with speed  50 at Rail   1\n",
      "Domain : [150, 120, 350]\n",
      "Solution is train with speed  120 at Rail   2\n",
      "Domain : [150, 120, 350]\n",
      "Solution is train with speed  100 at Rail   1\n",
      "Domain : [350]\n",
      "Solution is train with speed  160 at Rail   4\n",
      "Runtime of BT program is 0.4219\n",
      "____________________________________________________\n",
      "Runtime of BT and AC3 programs together are 0.9504\n",
      "____________________________________________________\n",
      "Domain : [350]\n",
      "Solution is train with speed  320 at Rail   4\n",
      "Domain : [150, 120, 350]\n",
      "Solution is train with speed  90 at Rail   1\n",
      "Domain : [350]\n",
      "Solution is train with speed  200 at Rail   4\n",
      "Domain : [150, 120, 80, 350]\n",
      "Solution is train with speed  50 at Rail   1\n",
      "Domain : [150, 120, 350]\n",
      "Solution is train with speed  120 at Rail   2\n",
      "Domain : [150, 120, 350]\n",
      "Solution is train with speed  100 at Rail   1\n",
      "Domain : [350]\n",
      "Solution is train with speed  160 at Rail   4\n",
      "Runtime of FC program is 0.5285\n",
      "____________________________________________________\n"
     ]
    }
   ],
   "source": [
    "import time\n",
    "\n",
    "start1 = time.perf_counter()\n",
    "sol, tracks = AC3(Trains, Rails)\n",
    "end1 = time.perf_counter()\n",
    "time_diff1 = (end1 - start1) * 1000\n",
    "print(f\"Runtime of AC3 program is {time_diff1:0.4f}\")\n",
    "print(\"____________________________________________________\")\n",
    "start2 = time.perf_counter()\n",
    "btresult = BT(Trains, sol, tracks)\n",
    "end2 = time.perf_counter()\n",
    "time_diff2 = (end2 - start2) * 1000\n",
    "print(f\"Runtime of BT program is {time_diff2:0.4f}\")\n",
    "print(\"____________________________________________________\")\n",
    "print(f\"Runtime of BT and AC3 programs together are {time_diff2 + time_diff1:0.4f}\")\n",
    "print(\"____________________________________________________\")\n",
    "start3 = time.perf_counter()\n",
    "fcresult = FC(Trains, Rails)\n",
    "end3 = time.perf_counter()\n",
    "time_diff3 = (end1 - start1) * 1000\n",
    "print(f\"Runtime of FC program is {time_diff3:0.4f}\")\n",
    "print(\"____________________________________________________\")"
   ]
  },
  {
   "cell_type": "markdown",
   "metadata": {},
   "source": [
    "# 7. Refrences\n",
    "1 - Edward Tsang, Foundations of Constraint Satisfaction.\n",
    "2 - Peter Norvig and Stuart J. Russell, Artificial Intelligence: A Modern Approach 3rd edition.\n",
    "3 - CS 340: Artificial Intelligence, Constraint Satisfaction Problems lecture slides.\n",
    "4 - Alan Mackworth and David Lynton Poole, Artificial Intelligence: Foundations of Computational Agents.\n",
    "5 - Khaled Ghédira, Constraint Satisfaction Problems: CSP Formalisms and Techniques.\n",
    "6 - Daniel Hunter Frost, Algorithms and Heuristics for Constraint Satisfaction Problems."
   ]
  },
  {
   "cell_type": "markdown",
   "metadata": {
    "direction": "rtl"
   },
   "source": [
    "# 7. المراجع\n",
    "1 - Edward Tsang, Foundations of Constraint Satisfaction\n",
    "2 - Peter Norvig and Stuart J. Russell, Artificial Intelligence: A Modern Approach 3rd edition\n",
    "3 - CS 340: Artificial Intelligence, Constraint Satisfaction Problems lecture slides\n",
    "4 - Alan Mackworth and David Lynton Poole, Artificial Intelligence: Foundations of Computational Agents\n",
    "5 - Khaled Ghédira, Constraint Satisfaction Problems: CSP Formalisms and Techniques\n",
    "6 - Daniel Hunter Frost, Algorithms and Heuristics for Constraint Satisfaction Problems"
   ]
  },
  {
   "cell_type": "markdown",
   "metadata": {},
   "source": [
    "# -  [GitHub Page](https://github.com/adnasseri/AI_CSP_Repo)\n",
    "# - [Colab Page](https://colab.research.google.com/drive/1tFaV_ztoHiki2dmFXX3rpSGka-OtH-0G?usp=sharing)"
   ]
  },
  {
   "cell_type": "code",
   "execution_count": null,
   "metadata": {},
   "outputs": [],
   "source": []
  }
 ],
 "metadata": {
  "direction": "ltr",
  "kernelspec": {
   "display_name": "Python 3",
   "language": "python",
   "name": "python3"
  },
  "language_info": {
   "codemirror_mode": {
    "name": "ipython",
    "version": 3
   },
   "file_extension": ".py",
   "mimetype": "text/x-python",
   "name": "python",
   "nbconvert_exporter": "python",
   "pygments_lexer": "ipython3",
   "version": "3.8.5"
  }
 },
 "nbformat": 4,
 "nbformat_minor": 4
}
